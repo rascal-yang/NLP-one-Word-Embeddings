{
 "cells": [
  {
   "cell_type": "code",
   "execution_count": 38,
   "metadata": {},
   "outputs": [],
   "source": [
    "import re\n",
    "\n",
    "svd = []\n",
    "# 打开文本文件\n",
    "with open('result/svd.txt', 'r', encoding='utf-8') as f:\n",
    "    # 逐行读取文件内容\n",
    "    for line in f:\n",
    "        # 使用正则表达式提取汉字和数字\n",
    "        # 使用正则表达式匹配数字部分\n",
    "        numbers = re.findall(r'[-+]?\\d*\\.\\d+|\\d+', line)\n",
    "\n",
    "            # 输出提取的汉字和数字\n",
    "        svd += numbers"
   ]
  },
  {
   "cell_type": "code",
   "execution_count": 39,
   "metadata": {},
   "outputs": [
    {
     "data": {
      "text/plain": [
       "500"
      ]
     },
     "execution_count": 39,
     "metadata": {},
     "output_type": "execute_result"
    }
   ],
   "source": [
    "len(svd)"
   ]
  },
  {
   "cell_type": "code",
   "execution_count": 40,
   "metadata": {},
   "outputs": [],
   "source": [
    "sgns = []\n",
    "# 打开文本文件\n",
    "with open('result/sgns.txt', 'r', encoding='utf-8') as f:\n",
    "    # 逐行读取文件内容\n",
    "    for line in f:\n",
    "        # 使用正则表达式提取汉字和数字\n",
    "        # 使用正则表达式匹配数字部分\n",
    "        numbers = re.findall(r'[-+]?\\d*\\.\\d+|\\d+', line)\n",
    "\n",
    "            # 输出提取的汉字和数字\n",
    "        sgns += numbers"
   ]
  },
  {
   "cell_type": "code",
   "execution_count": 41,
   "metadata": {},
   "outputs": [
    {
     "data": {
      "text/plain": [
       "500"
      ]
     },
     "execution_count": 41,
     "metadata": {},
     "output_type": "execute_result"
    }
   ],
   "source": [
    "len(sgns)"
   ]
  },
  {
   "cell_type": "code",
   "execution_count": 42,
   "metadata": {},
   "outputs": [],
   "source": [
    "# 打开文件并读取内容\n",
    "with open('pku_sim_test.txt', 'r', encoding='UTF-8') as file:\n",
    "    lines = file.readlines()\n",
    "\n",
    "# 在每行行末加一个tab符\n",
    "lines_with_tab = [lines[i].rstrip() +'\\t'+ svd[i] +'\\t'+ sgns[i] +'\\n' for i in range(len(lines))]\n",
    "\n",
    "# 将修改后的内容写入文件\n",
    "with open('2021213346.txt', 'w', encoding='UTF-8') as file:\n",
    "    file.writelines(lines_with_tab)\n"
   ]
  }
 ],
 "metadata": {
  "kernelspec": {
   "display_name": "torchGPU",
   "language": "python",
   "name": "python3"
  },
  "language_info": {
   "codemirror_mode": {
    "name": "ipython",
    "version": 3
   },
   "file_extension": ".py",
   "mimetype": "text/x-python",
   "name": "python",
   "nbconvert_exporter": "python",
   "pygments_lexer": "ipython3",
   "version": "3.9.18"
  }
 },
 "nbformat": 4,
 "nbformat_minor": 2
}
